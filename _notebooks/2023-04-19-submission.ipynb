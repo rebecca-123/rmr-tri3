{
 "cells": [
  {
   "attachments": {},
   "cell_type": "markdown",
   "metadata": {},
   "source": [
    "# Submit Homework Here\n",
    "> yes\n",
    "\n",
    "- toc: true \n",
    "- badges: true\n",
    "- comments: true\n",
    "- categories: [jupyter]"
   ]
  },
  {
   "attachments": {},
   "cell_type": "markdown",
   "metadata": {},
   "source": [
    "Once you've completed your homework as a treo submit it here. Include your names and the link to the 5 completed hacks/homework. The output should be working or else we will slash slash slash. "
   ]
  },
  {
   "attachments": {},
   "cell_type": "markdown",
   "metadata": {},
   "source": [
    "As we move to student teachin’ there will be a point where teachers say start hackin’\n",
    "When you start code code codin’ you may determine instructions were lackin’\n",
    "My advice is to get on #coding and start slackin’\n",
    "Be aware teaching teams are large and have the resources to be trackin’\n",
    "My job is to be observing, taking notes, and perhaps fitting in a little snackin’\n",
    "Follow these rules, no excuses, violations will lead to point smackin’\n",
    "Truly,\n",
    "hackin’, lackin’, slackin’, trackin’, snakin’, smakin’ , scrummin’ management\n"
   ]
  }
 ],
 "metadata": {
  "language_info": {
   "name": "python"
  },
  "orig_nbformat": 4
 },
 "nbformat": 4,
 "nbformat_minor": 2
}
